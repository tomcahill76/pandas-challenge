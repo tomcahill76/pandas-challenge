{
 "cells": [
  {
   "cell_type": "markdown",
   "metadata": {},
   "source": [
    "### Note\n",
    "* Instructions have been included for each segment. You do not have to follow them exactly, but they are included to help you think through the steps."
   ]
  },
  {
   "cell_type": "code",
   "execution_count": 2,
   "metadata": {},
   "outputs": [],
   "source": [
    "# Dependencies and Setup\n",
    "import pandas as pd\n",
    "\n",
    "# File to Load (Remember to Change These)\n",
    "file_to_load = \"Resources/purchase_data.csv\"\n",
    "\n",
    "# Read Purchasing File and store into Pandas data frame\n",
    "df = pd.read_csv(file_to_load)"
   ]
  },
  {
   "cell_type": "code",
   "execution_count": 3,
   "metadata": {},
   "outputs": [
    {
     "output_type": "execute_result",
     "data": {
      "text/plain": [
       "   Purchase ID             SN  Age Gender  Item ID  \\\n",
       "0            0        Lisim78   20   Male      108   \n",
       "1            1    Lisovynya38   40   Male      143   \n",
       "2            2     Ithergue48   24   Male       92   \n",
       "3            3  Chamassasya86   24   Male      100   \n",
       "4            4      Iskosia90   23   Male      131   \n",
       "\n",
       "                                   Item Name  Price  \n",
       "0  Extraction, Quickblade Of Trembling Hands   3.53  \n",
       "1                          Frenzied Scimitar   1.56  \n",
       "2                               Final Critic   4.88  \n",
       "3                                Blindscythe   3.27  \n",
       "4                                       Fury   1.44  "
      ],
      "text/html": "<div>\n<style scoped>\n    .dataframe tbody tr th:only-of-type {\n        vertical-align: middle;\n    }\n\n    .dataframe tbody tr th {\n        vertical-align: top;\n    }\n\n    .dataframe thead th {\n        text-align: right;\n    }\n</style>\n<table border=\"1\" class=\"dataframe\">\n  <thead>\n    <tr style=\"text-align: right;\">\n      <th></th>\n      <th>Purchase ID</th>\n      <th>SN</th>\n      <th>Age</th>\n      <th>Gender</th>\n      <th>Item ID</th>\n      <th>Item Name</th>\n      <th>Price</th>\n    </tr>\n  </thead>\n  <tbody>\n    <tr>\n      <th>0</th>\n      <td>0</td>\n      <td>Lisim78</td>\n      <td>20</td>\n      <td>Male</td>\n      <td>108</td>\n      <td>Extraction, Quickblade Of Trembling Hands</td>\n      <td>3.53</td>\n    </tr>\n    <tr>\n      <th>1</th>\n      <td>1</td>\n      <td>Lisovynya38</td>\n      <td>40</td>\n      <td>Male</td>\n      <td>143</td>\n      <td>Frenzied Scimitar</td>\n      <td>1.56</td>\n    </tr>\n    <tr>\n      <th>2</th>\n      <td>2</td>\n      <td>Ithergue48</td>\n      <td>24</td>\n      <td>Male</td>\n      <td>92</td>\n      <td>Final Critic</td>\n      <td>4.88</td>\n    </tr>\n    <tr>\n      <th>3</th>\n      <td>3</td>\n      <td>Chamassasya86</td>\n      <td>24</td>\n      <td>Male</td>\n      <td>100</td>\n      <td>Blindscythe</td>\n      <td>3.27</td>\n    </tr>\n    <tr>\n      <th>4</th>\n      <td>4</td>\n      <td>Iskosia90</td>\n      <td>23</td>\n      <td>Male</td>\n      <td>131</td>\n      <td>Fury</td>\n      <td>1.44</td>\n    </tr>\n  </tbody>\n</table>\n</div>"
     },
     "metadata": {},
     "execution_count": 3
    }
   ],
   "source": [
    "df.head()"
   ]
  },
  {
   "cell_type": "code",
   "execution_count": 12,
   "metadata": {},
   "outputs": [],
   "source": [
    "playercount= df[\"SN\"].nunique()\n"
   ]
  },
  {
   "cell_type": "markdown",
   "metadata": {},
   "source": [
    "## Player Count"
   ]
  },
  {
   "cell_type": "markdown",
   "metadata": {},
   "source": [
    "* Display the total number of players\n"
   ]
  },
  {
   "cell_type": "code",
   "execution_count": 11,
   "metadata": {},
   "outputs": [
    {
     "output_type": "execute_result",
     "data": {
      "text/plain": [
       "   Total Players\n",
       "0            576"
      ],
      "text/html": "<div>\n<style scoped>\n    .dataframe tbody tr th:only-of-type {\n        vertical-align: middle;\n    }\n\n    .dataframe tbody tr th {\n        vertical-align: top;\n    }\n\n    .dataframe thead th {\n        text-align: right;\n    }\n</style>\n<table border=\"1\" class=\"dataframe\">\n  <thead>\n    <tr style=\"text-align: right;\">\n      <th></th>\n      <th>Total Players</th>\n    </tr>\n  </thead>\n  <tbody>\n    <tr>\n      <th>0</th>\n      <td>576</td>\n    </tr>\n  </tbody>\n</table>\n</div>"
     },
     "metadata": {},
     "execution_count": 11
    }
   ],
   "source": [
    "playercount_df=pd.DataFrame({\"Total Players\":playercount}, index=[0])\n",
    "playercount_df"
   ]
  },
  {
   "cell_type": "markdown",
   "metadata": {},
   "source": [
    "## Purchasing Analysis (Total)"
   ]
  },
  {
   "cell_type": "markdown",
   "metadata": {},
   "source": [
    "* Run basic calculations to obtain number of unique items, average price, etc.\n",
    "\n",
    "\n",
    "* Create a summary data frame to hold the results\n",
    "\n",
    "\n",
    "* Optional: give the displayed data cleaner formatting\n",
    "\n",
    "\n",
    "* Display the summary data frame\n"
   ]
  },
  {
   "cell_type": "code",
   "execution_count": 17,
   "metadata": {},
   "outputs": [
    {
     "output_type": "execute_result",
     "data": {
      "text/plain": [
       "179"
      ]
     },
     "metadata": {},
     "execution_count": 17
    }
   ],
   "source": [
    "UniqueItems = df[\"Item ID\"].nunique()\n",
    "UniqueItems"
   ]
  },
  {
   "cell_type": "code",
   "execution_count": 28,
   "metadata": {},
   "outputs": [],
   "source": [
    "AvgPrice = df[\"Price\"].mean()\n"
   ]
  },
  {
   "cell_type": "code",
   "execution_count": 30,
   "metadata": {},
   "outputs": [],
   "source": [
    "Number_of_Purchases=df[\"Price\"].count()\n"
   ]
  },
  {
   "cell_type": "code",
   "execution_count": 31,
   "metadata": {},
   "outputs": [
    {
     "output_type": "execute_result",
     "data": {
      "text/plain": [
       "2379.77"
      ]
     },
     "metadata": {},
     "execution_count": 31
    }
   ],
   "source": [
    "Total_Rev=df[\"Price\"].sum()\n",
    "Total_Rev"
   ]
  },
  {
   "cell_type": "code",
   "execution_count": 39,
   "metadata": {},
   "outputs": [
    {
     "output_type": "execute_result",
     "data": {
      "text/plain": [
       "   Number of Unique Items  Average Price  Number of Purchases  Total Revenue\n",
       "0                     179       3.050987                  780        2379.77"
      ],
      "text/html": "<div>\n<style scoped>\n    .dataframe tbody tr th:only-of-type {\n        vertical-align: middle;\n    }\n\n    .dataframe tbody tr th {\n        vertical-align: top;\n    }\n\n    .dataframe thead th {\n        text-align: right;\n    }\n</style>\n<table border=\"1\" class=\"dataframe\">\n  <thead>\n    <tr style=\"text-align: right;\">\n      <th></th>\n      <th>Number of Unique Items</th>\n      <th>Average Price</th>\n      <th>Number of Purchases</th>\n      <th>Total Revenue</th>\n    </tr>\n  </thead>\n  <tbody>\n    <tr>\n      <th>0</th>\n      <td>179</td>\n      <td>3.050987</td>\n      <td>780</td>\n      <td>2379.77</td>\n    </tr>\n  </tbody>\n</table>\n</div>"
     },
     "metadata": {},
     "execution_count": 39
    }
   ],
   "source": [
    "Purchasing_Analysis_df = pd.DataFrame({\"Number of Unique Items\": UniqueItems ,\"Average Price\":AvgPrice ,\"Number of Purchases\": Number_of_Purchases ,'Total Revenue':Total_Rev},index = [0])\n",
    "Purchasing_Analysis_df"
   ]
  },
  {
   "cell_type": "markdown",
   "metadata": {},
   "source": [
    "## Gender Demographics"
   ]
  },
  {
   "cell_type": "code",
   "execution_count": 56,
   "metadata": {},
   "outputs": [],
   "source": [
    "gender_grouped = df.groupby([\"Gender\"])"
   ]
  },
  {
   "cell_type": "code",
   "execution_count": 48,
   "metadata": {},
   "outputs": [
    {
     "output_type": "execute_result",
     "data": {
      "text/plain": [
       "780"
      ]
     },
     "metadata": {},
     "execution_count": 48
    }
   ],
   "source": [
    "totalcount= df[\"Gender\"].count()\n",
    "totalcount"
   ]
  },
  {
   "cell_type": "code",
   "execution_count": 59,
   "metadata": {},
   "outputs": [
    {
     "output_type": "execute_result",
     "data": {
      "text/plain": [
       "Gender\n",
       "Female                   113\n",
       "Male                     652\n",
       "Other / Non-Disclosed     15\n",
       "Name: Gender, dtype: int64"
      ]
     },
     "metadata": {},
     "execution_count": 59
    }
   ],
   "source": [
    "gender_count = gender_grouped[\"Gender\"].count()\n",
    "gender_count\n"
   ]
  },
  {
   "cell_type": "code",
   "execution_count": 53,
   "metadata": {},
   "outputs": [],
   "source": [
    "gender_per = gender_count/totalcount\n"
   ]
  },
  {
   "cell_type": "markdown",
   "metadata": {},
   "source": [
    "* Percentage and Count of Male Players\n",
    "\n",
    "\n",
    "* Percentage and Count of Female Players\n",
    "\n",
    "\n",
    "* Percentage and Count of Other / Non-Disclosed\n",
    "\n",
    "\n"
   ]
  },
  {
   "cell_type": "code",
   "execution_count": 51,
   "metadata": {},
   "outputs": [
    {
     "output_type": "execute_result",
     "data": {
      "text/plain": [
       "                       Total Count  Percentage of Players\n",
       "Gender                                                   \n",
       "Female                         113               0.144872\n",
       "Male                           652               0.835897\n",
       "Other / Non-Disclosed           15               0.019231"
      ],
      "text/html": "<div>\n<style scoped>\n    .dataframe tbody tr th:only-of-type {\n        vertical-align: middle;\n    }\n\n    .dataframe tbody tr th {\n        vertical-align: top;\n    }\n\n    .dataframe thead th {\n        text-align: right;\n    }\n</style>\n<table border=\"1\" class=\"dataframe\">\n  <thead>\n    <tr style=\"text-align: right;\">\n      <th></th>\n      <th>Total Count</th>\n      <th>Percentage of Players</th>\n    </tr>\n    <tr>\n      <th>Gender</th>\n      <th></th>\n      <th></th>\n    </tr>\n  </thead>\n  <tbody>\n    <tr>\n      <th>Female</th>\n      <td>113</td>\n      <td>0.144872</td>\n    </tr>\n    <tr>\n      <th>Male</th>\n      <td>652</td>\n      <td>0.835897</td>\n    </tr>\n    <tr>\n      <th>Other / Non-Disclosed</th>\n      <td>15</td>\n      <td>0.019231</td>\n    </tr>\n  </tbody>\n</table>\n</div>"
     },
     "metadata": {},
     "execution_count": 51
    }
   ],
   "source": [
    "Gender_Demographics_df = pd.DataFrame({\"Total Count\":gender_count,'Percentage of Players':gender_per })\n",
    "Gender_Demographics_df"
   ]
  },
  {
   "cell_type": "code",
   "execution_count": 69,
   "metadata": {},
   "outputs": [],
   "source": [
    "PurchaseCount = gender_grouped[\"Purchase ID\"].count()\n"
   ]
  },
  {
   "cell_type": "code",
   "execution_count": 64,
   "metadata": {},
   "outputs": [],
   "source": [
    "AveragePurchasePrice = gender_grouped[\"Price\"].mean()"
   ]
  },
  {
   "cell_type": "code",
   "execution_count": 65,
   "metadata": {},
   "outputs": [],
   "source": [
    "TotalPurchaseValue = gender_grouped[\"Price\"].sum() "
   ]
  },
  {
   "cell_type": "code",
   "execution_count": 67,
   "metadata": {},
   "outputs": [],
   "source": [
    "unquie_mf = gender_grouped[\"SN\"].nunique()\n"
   ]
  },
  {
   "cell_type": "code",
   "execution_count": 68,
   "metadata": {},
   "outputs": [],
   "source": [
    "AvgTotalPurchaseperPerson = TotalPurchaseValue / unquie_mf"
   ]
  },
  {
   "cell_type": "code",
   "execution_count": null,
   "metadata": {},
   "outputs": [],
   "source": []
  },
  {
   "cell_type": "markdown",
   "metadata": {},
   "source": [
    "* Run basic calculations to obtain purchase count, avg. purchase price, avg. purchase total per person etc. by gender\n",
    "\n",
    "\n",
    "\n",
    "\n",
    "* Create a summary data frame to hold the results\n",
    "\n",
    "\n",
    "* Optional: give the displayed data cleaner formatting\n",
    "\n",
    "\n",
    "* Display the summary data frame"
   ]
  },
  {
   "cell_type": "code",
   "execution_count": 73,
   "metadata": {},
   "outputs": [
    {
     "output_type": "execute_result",
     "data": {
      "text/plain": [
       "                       Purchase Count  Average Purchase Price  \\\n",
       "Gender                                                          \n",
       "Female                            113                3.203009   \n",
       "Male                              652                3.017853   \n",
       "Other / Non-Disclosed              15                3.346000   \n",
       "\n",
       "                       Total Purchase Value  Avg Total Purchase per Person  \n",
       "Gender                                                                      \n",
       "Female                               361.94                       4.468395  \n",
       "Male                                1967.64                       4.065372  \n",
       "Other / Non-Disclosed                 50.19                       4.562727  "
      ],
      "text/html": "<div>\n<style scoped>\n    .dataframe tbody tr th:only-of-type {\n        vertical-align: middle;\n    }\n\n    .dataframe tbody tr th {\n        vertical-align: top;\n    }\n\n    .dataframe thead th {\n        text-align: right;\n    }\n</style>\n<table border=\"1\" class=\"dataframe\">\n  <thead>\n    <tr style=\"text-align: right;\">\n      <th></th>\n      <th>Purchase Count</th>\n      <th>Average Purchase Price</th>\n      <th>Total Purchase Value</th>\n      <th>Avg Total Purchase per Person</th>\n    </tr>\n    <tr>\n      <th>Gender</th>\n      <th></th>\n      <th></th>\n      <th></th>\n      <th></th>\n    </tr>\n  </thead>\n  <tbody>\n    <tr>\n      <th>Female</th>\n      <td>113</td>\n      <td>3.203009</td>\n      <td>361.94</td>\n      <td>4.468395</td>\n    </tr>\n    <tr>\n      <th>Male</th>\n      <td>652</td>\n      <td>3.017853</td>\n      <td>1967.64</td>\n      <td>4.065372</td>\n    </tr>\n    <tr>\n      <th>Other / Non-Disclosed</th>\n      <td>15</td>\n      <td>3.346000</td>\n      <td>50.19</td>\n      <td>4.562727</td>\n    </tr>\n  </tbody>\n</table>\n</div>"
     },
     "metadata": {},
     "execution_count": 73
    }
   ],
   "source": [
    "Gender_Demographics_Purchase_df = pd.DataFrame({'Purchase Count': PurchaseCount,'Average Purchase Price': AveragePurchasePrice, 'Total Purchase Value':TotalPurchaseValue,'Avg Total Purchase per Person': AvgTotalPurchaseperPerson})\n",
    "Gender_Demographics_Purchase_df"
   ]
  },
  {
   "cell_type": "markdown",
   "metadata": {},
   "source": [
    "## Age Demographics"
   ]
  },
  {
   "cell_type": "markdown",
   "metadata": {},
   "source": [
    "* Establish bins for ages\n",
    "\n",
    "\n",
    "* Categorize the existing players using the age bins. Hint: use pd.cut()\n",
    "\n",
    "\n",
    "* Calculate the numbers and percentages by age group\n",
    "\n",
    "\n",
    "* Create a summary data frame to hold the results\n",
    "\n",
    "\n",
    "* Optional: round the percentage column to two decimal points\n",
    "\n",
    "\n",
    "* Display Age Demographics Table\n"
   ]
  },
  {
   "cell_type": "code",
   "execution_count": 74,
   "metadata": {},
   "outputs": [],
   "source": [
    "Bins =(0,9,14,19,24,29,34,39,1000)\n",
    "Bin_Labels = (\"<10\",\"10-14\",\"15-19\",\"20-24\",\"25-29\",\"30-34\",\"35-39\",\"40+\")"
   ]
  },
  {
   "cell_type": "code",
   "execution_count": 76,
   "metadata": {},
   "outputs": [
    {
     "output_type": "execute_result",
     "data": {
      "text/plain": [
       "     Purchase ID             SN  Age  Gender  Item ID  \\\n",
       "0              0        Lisim78   20    Male      108   \n",
       "1              1    Lisovynya38   40    Male      143   \n",
       "2              2     Ithergue48   24    Male       92   \n",
       "3              3  Chamassasya86   24    Male      100   \n",
       "4              4      Iskosia90   23    Male      131   \n",
       "..           ...            ...  ...     ...      ...   \n",
       "775          775     Aethedru70   21  Female       60   \n",
       "776          776         Iral74   21    Male      164   \n",
       "777          777     Yathecal72   20    Male       67   \n",
       "778          778        Sisur91    7    Male       92   \n",
       "779          779      Ennrian78   24    Male       50   \n",
       "\n",
       "                                     Item Name  Price Age Range  \n",
       "0    Extraction, Quickblade Of Trembling Hands   3.53     20-24  \n",
       "1                            Frenzied Scimitar   1.56       40+  \n",
       "2                                 Final Critic   4.88     20-24  \n",
       "3                                  Blindscythe   3.27     20-24  \n",
       "4                                         Fury   1.44     20-24  \n",
       "..                                         ...    ...       ...  \n",
       "775                                       Wolf   3.54     20-24  \n",
       "776                           Exiled Doomblade   1.63     20-24  \n",
       "777      Celeste, Incarnation of the Corrupted   3.46     20-24  \n",
       "778                               Final Critic   4.19       <10  \n",
       "779                                       Dawn   4.60     20-24  \n",
       "\n",
       "[780 rows x 8 columns]"
      ],
      "text/html": "<div>\n<style scoped>\n    .dataframe tbody tr th:only-of-type {\n        vertical-align: middle;\n    }\n\n    .dataframe tbody tr th {\n        vertical-align: top;\n    }\n\n    .dataframe thead th {\n        text-align: right;\n    }\n</style>\n<table border=\"1\" class=\"dataframe\">\n  <thead>\n    <tr style=\"text-align: right;\">\n      <th></th>\n      <th>Purchase ID</th>\n      <th>SN</th>\n      <th>Age</th>\n      <th>Gender</th>\n      <th>Item ID</th>\n      <th>Item Name</th>\n      <th>Price</th>\n      <th>Age Range</th>\n    </tr>\n  </thead>\n  <tbody>\n    <tr>\n      <th>0</th>\n      <td>0</td>\n      <td>Lisim78</td>\n      <td>20</td>\n      <td>Male</td>\n      <td>108</td>\n      <td>Extraction, Quickblade Of Trembling Hands</td>\n      <td>3.53</td>\n      <td>20-24</td>\n    </tr>\n    <tr>\n      <th>1</th>\n      <td>1</td>\n      <td>Lisovynya38</td>\n      <td>40</td>\n      <td>Male</td>\n      <td>143</td>\n      <td>Frenzied Scimitar</td>\n      <td>1.56</td>\n      <td>40+</td>\n    </tr>\n    <tr>\n      <th>2</th>\n      <td>2</td>\n      <td>Ithergue48</td>\n      <td>24</td>\n      <td>Male</td>\n      <td>92</td>\n      <td>Final Critic</td>\n      <td>4.88</td>\n      <td>20-24</td>\n    </tr>\n    <tr>\n      <th>3</th>\n      <td>3</td>\n      <td>Chamassasya86</td>\n      <td>24</td>\n      <td>Male</td>\n      <td>100</td>\n      <td>Blindscythe</td>\n      <td>3.27</td>\n      <td>20-24</td>\n    </tr>\n    <tr>\n      <th>4</th>\n      <td>4</td>\n      <td>Iskosia90</td>\n      <td>23</td>\n      <td>Male</td>\n      <td>131</td>\n      <td>Fury</td>\n      <td>1.44</td>\n      <td>20-24</td>\n    </tr>\n    <tr>\n      <th>...</th>\n      <td>...</td>\n      <td>...</td>\n      <td>...</td>\n      <td>...</td>\n      <td>...</td>\n      <td>...</td>\n      <td>...</td>\n      <td>...</td>\n    </tr>\n    <tr>\n      <th>775</th>\n      <td>775</td>\n      <td>Aethedru70</td>\n      <td>21</td>\n      <td>Female</td>\n      <td>60</td>\n      <td>Wolf</td>\n      <td>3.54</td>\n      <td>20-24</td>\n    </tr>\n    <tr>\n      <th>776</th>\n      <td>776</td>\n      <td>Iral74</td>\n      <td>21</td>\n      <td>Male</td>\n      <td>164</td>\n      <td>Exiled Doomblade</td>\n      <td>1.63</td>\n      <td>20-24</td>\n    </tr>\n    <tr>\n      <th>777</th>\n      <td>777</td>\n      <td>Yathecal72</td>\n      <td>20</td>\n      <td>Male</td>\n      <td>67</td>\n      <td>Celeste, Incarnation of the Corrupted</td>\n      <td>3.46</td>\n      <td>20-24</td>\n    </tr>\n    <tr>\n      <th>778</th>\n      <td>778</td>\n      <td>Sisur91</td>\n      <td>7</td>\n      <td>Male</td>\n      <td>92</td>\n      <td>Final Critic</td>\n      <td>4.19</td>\n      <td>&lt;10</td>\n    </tr>\n    <tr>\n      <th>779</th>\n      <td>779</td>\n      <td>Ennrian78</td>\n      <td>24</td>\n      <td>Male</td>\n      <td>50</td>\n      <td>Dawn</td>\n      <td>4.60</td>\n      <td>20-24</td>\n    </tr>\n  </tbody>\n</table>\n<p>780 rows × 8 columns</p>\n</div>"
     },
     "metadata": {},
     "execution_count": 76
    }
   ],
   "source": [
    "df[\"Age Range\"] = pd.cut(df[\"Age\"], Bins, labels=Bin_Labels, include_lowest=True)\n",
    "df"
   ]
  },
  {
   "cell_type": "code",
   "execution_count": 77,
   "metadata": {},
   "outputs": [],
   "source": [
    "Age_ranged_grouped = df.groupby([\"Age Range\"])"
   ]
  },
  {
   "cell_type": "code",
   "execution_count": 79,
   "metadata": {},
   "outputs": [
    {
     "output_type": "execute_result",
     "data": {
      "text/plain": [
       "Age Range\n",
       "<10       17\n",
       "10-14     22\n",
       "15-19    107\n",
       "20-24    258\n",
       "25-29     77\n",
       "30-34     52\n",
       "35-39     31\n",
       "40+       12\n",
       "Name: SN, dtype: int64"
      ]
     },
     "metadata": {},
     "execution_count": 79
    }
   ],
   "source": [
    "Age_Total_Count = Age_ranged_grouped[\"SN\"].nunique()\n",
    "Age_Total_Count"
   ]
  },
  {
   "cell_type": "code",
   "execution_count": 139,
   "metadata": {},
   "outputs": [],
   "source": [
    "Percentage_of_Players =  Age_ranged_grouped[\"SN\"].nunique()/df[\"SN\"].nunique()\n"
   ]
  },
  {
   "cell_type": "code",
   "execution_count": 82,
   "metadata": {},
   "outputs": [
    {
     "output_type": "execute_result",
     "data": {
      "text/plain": [
       "           Total Count  Percentage of Players\n",
       "Age Range                                    \n",
       "<10                 17               0.029514\n",
       "10-14               22               0.038194\n",
       "15-19              107               0.185764\n",
       "20-24              258               0.447917\n",
       "25-29               77               0.133681\n",
       "30-34               52               0.090278\n",
       "35-39               31               0.053819\n",
       "40+                 12               0.020833"
      ],
      "text/html": "<div>\n<style scoped>\n    .dataframe tbody tr th:only-of-type {\n        vertical-align: middle;\n    }\n\n    .dataframe tbody tr th {\n        vertical-align: top;\n    }\n\n    .dataframe thead th {\n        text-align: right;\n    }\n</style>\n<table border=\"1\" class=\"dataframe\">\n  <thead>\n    <tr style=\"text-align: right;\">\n      <th></th>\n      <th>Total Count</th>\n      <th>Percentage of Players</th>\n    </tr>\n    <tr>\n      <th>Age Range</th>\n      <th></th>\n      <th></th>\n    </tr>\n  </thead>\n  <tbody>\n    <tr>\n      <th>&lt;10</th>\n      <td>17</td>\n      <td>0.029514</td>\n    </tr>\n    <tr>\n      <th>10-14</th>\n      <td>22</td>\n      <td>0.038194</td>\n    </tr>\n    <tr>\n      <th>15-19</th>\n      <td>107</td>\n      <td>0.185764</td>\n    </tr>\n    <tr>\n      <th>20-24</th>\n      <td>258</td>\n      <td>0.447917</td>\n    </tr>\n    <tr>\n      <th>25-29</th>\n      <td>77</td>\n      <td>0.133681</td>\n    </tr>\n    <tr>\n      <th>30-34</th>\n      <td>52</td>\n      <td>0.090278</td>\n    </tr>\n    <tr>\n      <th>35-39</th>\n      <td>31</td>\n      <td>0.053819</td>\n    </tr>\n    <tr>\n      <th>40+</th>\n      <td>12</td>\n      <td>0.020833</td>\n    </tr>\n  </tbody>\n</table>\n</div>"
     },
     "metadata": {},
     "execution_count": 82
    }
   ],
   "source": [
    "Age_df=pd.DataFrame({\"Total Count\":Age_Total_Count,'Percentage of Players' :Percentage_of_Players})\n",
    "Age_df"
   ]
  },
  {
   "cell_type": "markdown",
   "metadata": {},
   "source": [
    "## Purchasing Analysis (Age)"
   ]
  },
  {
   "cell_type": "markdown",
   "metadata": {},
   "source": [
    "* Bin the purchase_data data frame by age\n",
    "\n",
    "\n",
    "* Run basic calculations to obtain purchase count, avg. purchase price, avg. purchase total per person etc. in the table below\n",
    "\n",
    "\n",
    "* Create a summary data frame to hold the results\n",
    "\n",
    "\n",
    "* Optional: give the displayed data cleaner formatting\n",
    "\n",
    "\n",
    "* Display the summary data frame"
   ]
  },
  {
   "cell_type": "code",
   "execution_count": 88,
   "metadata": {},
   "outputs": [],
   "source": [
    "# Purchase Count\n",
    "Age_Purchase_Count = Age_ranged_grouped['SN'].count()\n"
   ]
  },
  {
   "cell_type": "code",
   "execution_count": 91,
   "metadata": {},
   "outputs": [],
   "source": [
    "# Average Purchase Price\n",
    "ASP = Age_ranged_grouped['Price'].mean()\n"
   ]
  },
  {
   "cell_type": "code",
   "execution_count": 95,
   "metadata": {},
   "outputs": [],
   "source": [
    "# Total Purchase Value\n",
    "Rev = Age_ranged_grouped['Price'].sum()\n"
   ]
  },
  {
   "cell_type": "code",
   "execution_count": 99,
   "metadata": {},
   "outputs": [],
   "source": [
    "# Unique_person\n",
    "Unique_person_count = Age_ranged_grouped['SN'].nunique()"
   ]
  },
  {
   "cell_type": "code",
   "execution_count": 138,
   "metadata": {},
   "outputs": [],
   "source": [
    "# Avg Total Purchase per Person\n",
    "Avg_per_person= Rev/Unique_person_count\n"
   ]
  },
  {
   "cell_type": "code",
   "execution_count": 104,
   "metadata": {},
   "outputs": [
    {
     "output_type": "execute_result",
     "data": {
      "text/plain": [
       "           Purchase Count  Average Purchase Price  Total Purchase Value  \\\n",
       "Age Range                                                                 \n",
       "<10                    23                3.353478                 77.13   \n",
       "10-14                  28                2.956429                 82.78   \n",
       "15-19                 136                3.035956                412.89   \n",
       "20-24                 365                3.052219               1114.06   \n",
       "25-29                 101                2.900990                293.00   \n",
       "30-34                  73                2.931507                214.00   \n",
       "35-39                  41                3.601707                147.67   \n",
       "40+                    13                2.941538                 38.24   \n",
       "\n",
       "           Avg Total Purchase per Person  \n",
       "Age Range                                 \n",
       "<10                             4.537059  \n",
       "10-14                           3.762727  \n",
       "15-19                           3.858785  \n",
       "20-24                           4.318062  \n",
       "25-29                           3.805195  \n",
       "30-34                           4.115385  \n",
       "35-39                           4.763548  \n",
       "40+                             3.186667  "
      ],
      "text/html": "<div>\n<style scoped>\n    .dataframe tbody tr th:only-of-type {\n        vertical-align: middle;\n    }\n\n    .dataframe tbody tr th {\n        vertical-align: top;\n    }\n\n    .dataframe thead th {\n        text-align: right;\n    }\n</style>\n<table border=\"1\" class=\"dataframe\">\n  <thead>\n    <tr style=\"text-align: right;\">\n      <th></th>\n      <th>Purchase Count</th>\n      <th>Average Purchase Price</th>\n      <th>Total Purchase Value</th>\n      <th>Avg Total Purchase per Person</th>\n    </tr>\n    <tr>\n      <th>Age Range</th>\n      <th></th>\n      <th></th>\n      <th></th>\n      <th></th>\n    </tr>\n  </thead>\n  <tbody>\n    <tr>\n      <th>&lt;10</th>\n      <td>23</td>\n      <td>3.353478</td>\n      <td>77.13</td>\n      <td>4.537059</td>\n    </tr>\n    <tr>\n      <th>10-14</th>\n      <td>28</td>\n      <td>2.956429</td>\n      <td>82.78</td>\n      <td>3.762727</td>\n    </tr>\n    <tr>\n      <th>15-19</th>\n      <td>136</td>\n      <td>3.035956</td>\n      <td>412.89</td>\n      <td>3.858785</td>\n    </tr>\n    <tr>\n      <th>20-24</th>\n      <td>365</td>\n      <td>3.052219</td>\n      <td>1114.06</td>\n      <td>4.318062</td>\n    </tr>\n    <tr>\n      <th>25-29</th>\n      <td>101</td>\n      <td>2.900990</td>\n      <td>293.00</td>\n      <td>3.805195</td>\n    </tr>\n    <tr>\n      <th>30-34</th>\n      <td>73</td>\n      <td>2.931507</td>\n      <td>214.00</td>\n      <td>4.115385</td>\n    </tr>\n    <tr>\n      <th>35-39</th>\n      <td>41</td>\n      <td>3.601707</td>\n      <td>147.67</td>\n      <td>4.763548</td>\n    </tr>\n    <tr>\n      <th>40+</th>\n      <td>13</td>\n      <td>2.941538</td>\n      <td>38.24</td>\n      <td>3.186667</td>\n    </tr>\n  </tbody>\n</table>\n</div>"
     },
     "metadata": {},
     "execution_count": 104
    }
   ],
   "source": [
    "Age_Purcahse_df = pd.DataFrame({\"Purchase Count\":Age_Purchase_Count,\"Average Purchase Price\":ASP ,\"Total Purchase Value\":Rev,\"Avg Total Purchase per Person\":Avg_per_person})\n",
    "Age_Purcahse_df"
   ]
  },
  {
   "cell_type": "markdown",
   "metadata": {},
   "source": [
    "## Top Spenders"
   ]
  },
  {
   "cell_type": "code",
   "execution_count": 106,
   "metadata": {},
   "outputs": [],
   "source": [
    "SN_grouped = df.groupby([\"SN\"])"
   ]
  },
  {
   "cell_type": "code",
   "execution_count": 108,
   "metadata": {},
   "outputs": [],
   "source": [
    "#Purchase Count\n",
    "SN_purchase_count = SN_grouped[\"Purchase ID\"].count()\n"
   ]
  },
  {
   "cell_type": "code",
   "execution_count": 110,
   "metadata": {},
   "outputs": [],
   "source": [
    "#Average Purchase Price\n",
    "SN_ASP = SN_grouped[\"Price\"].mean()\n"
   ]
  },
  {
   "cell_type": "code",
   "execution_count": 113,
   "metadata": {},
   "outputs": [],
   "source": [
    "#Total Purchase Value\n",
    "SN_Rev = SN_grouped[\"Price\"].sum()\n"
   ]
  },
  {
   "cell_type": "markdown",
   "metadata": {},
   "source": [
    "* Run basic calculations to obtain the results in the table below\n",
    "\n",
    "\n",
    "* Create a summary data frame to hold the results\n",
    "\n",
    "\n",
    "* Sort the total purchase value column in descending order\n",
    "\n",
    "\n",
    "* Optional: give the displayed data cleaner formatting\n",
    "\n",
    "\n",
    "* Display a preview of the summary data frame\n",
    "\n"
   ]
  },
  {
   "cell_type": "code",
   "execution_count": 136,
   "metadata": {},
   "outputs": [],
   "source": [
    "Purchase_df = pd.DataFrame({\"Purchase Count\":SN_purchase_count,\"Average Purchase Price\":SN_ASP,\"Total Purchase Value\":SN_Rev})\n"
   ]
  },
  {
   "cell_type": "code",
   "execution_count": 137,
   "metadata": {},
   "outputs": [
    {
     "output_type": "execute_result",
     "data": {
      "text/plain": [
       "              Purchase Count  Average Purchase Price  Total Purchase Value\n",
       "SN                                                                        \n",
       "Lisosia93                  5                3.792000                 18.96\n",
       "Iral74                     4                3.405000                 13.62\n",
       "Idastidru52                4                3.862500                 15.45\n",
       "Asur53                     3                2.480000                  7.44\n",
       "Inguron55                  3                3.703333                 11.11\n",
       "...                      ...                     ...                   ...\n",
       "Hala31                     1                1.020000                  1.02\n",
       "Haisurra41                 1                4.400000                  4.40\n",
       "Hailaphos89                1                3.810000                  3.81\n",
       "Haestyphos66               1                1.970000                  1.97\n",
       "Iskosian40                 1                3.070000                  3.07\n",
       "\n",
       "[576 rows x 3 columns]"
      ],
      "text/html": "<div>\n<style scoped>\n    .dataframe tbody tr th:only-of-type {\n        vertical-align: middle;\n    }\n\n    .dataframe tbody tr th {\n        vertical-align: top;\n    }\n\n    .dataframe thead th {\n        text-align: right;\n    }\n</style>\n<table border=\"1\" class=\"dataframe\">\n  <thead>\n    <tr style=\"text-align: right;\">\n      <th></th>\n      <th>Purchase Count</th>\n      <th>Average Purchase Price</th>\n      <th>Total Purchase Value</th>\n    </tr>\n    <tr>\n      <th>SN</th>\n      <th></th>\n      <th></th>\n      <th></th>\n    </tr>\n  </thead>\n  <tbody>\n    <tr>\n      <th>Lisosia93</th>\n      <td>5</td>\n      <td>3.792000</td>\n      <td>18.96</td>\n    </tr>\n    <tr>\n      <th>Iral74</th>\n      <td>4</td>\n      <td>3.405000</td>\n      <td>13.62</td>\n    </tr>\n    <tr>\n      <th>Idastidru52</th>\n      <td>4</td>\n      <td>3.862500</td>\n      <td>15.45</td>\n    </tr>\n    <tr>\n      <th>Asur53</th>\n      <td>3</td>\n      <td>2.480000</td>\n      <td>7.44</td>\n    </tr>\n    <tr>\n      <th>Inguron55</th>\n      <td>3</td>\n      <td>3.703333</td>\n      <td>11.11</td>\n    </tr>\n    <tr>\n      <th>...</th>\n      <td>...</td>\n      <td>...</td>\n      <td>...</td>\n    </tr>\n    <tr>\n      <th>Hala31</th>\n      <td>1</td>\n      <td>1.020000</td>\n      <td>1.02</td>\n    </tr>\n    <tr>\n      <th>Haisurra41</th>\n      <td>1</td>\n      <td>4.400000</td>\n      <td>4.40</td>\n    </tr>\n    <tr>\n      <th>Hailaphos89</th>\n      <td>1</td>\n      <td>3.810000</td>\n      <td>3.81</td>\n    </tr>\n    <tr>\n      <th>Haestyphos66</th>\n      <td>1</td>\n      <td>1.970000</td>\n      <td>1.97</td>\n    </tr>\n    <tr>\n      <th>Iskosian40</th>\n      <td>1</td>\n      <td>3.070000</td>\n      <td>3.07</td>\n    </tr>\n  </tbody>\n</table>\n<p>576 rows × 3 columns</p>\n</div>"
     },
     "metadata": {},
     "execution_count": 137
    }
   ],
   "source": [
    "Purchase_df = Purchase_df.sort_values([\"Purchase Count\"],ascending=False)\n",
    "Purchase_df"
   ]
  },
  {
   "cell_type": "code",
   "execution_count": 125,
   "metadata": {},
   "outputs": [
    {
     "output_type": "execute_result",
     "data": {
      "text/plain": [
       "             Purchase Count  Average Purchase Price  Total Purchase Value\n",
       "SN                                                                       \n",
       "Lisosia93                 5                3.792000                 18.96\n",
       "Idastidru52               4                3.862500                 15.45\n",
       "Chamjask73                3                4.610000                 13.83\n",
       "Iral74                    4                3.405000                 13.62\n",
       "Iskadarya95               3                4.366667                 13.10\n",
       "...                     ...                     ...                   ...\n",
       "Ililsasya43               1                1.020000                  1.02\n",
       "Irilis75                  1                1.020000                  1.02\n",
       "Aidai61                   1                1.010000                  1.01\n",
       "Chanirra79                1                1.010000                  1.01\n",
       "Alo38                     1                1.000000                  1.00\n",
       "\n",
       "[576 rows x 3 columns]"
      ],
      "text/html": "<div>\n<style scoped>\n    .dataframe tbody tr th:only-of-type {\n        vertical-align: middle;\n    }\n\n    .dataframe tbody tr th {\n        vertical-align: top;\n    }\n\n    .dataframe thead th {\n        text-align: right;\n    }\n</style>\n<table border=\"1\" class=\"dataframe\">\n  <thead>\n    <tr style=\"text-align: right;\">\n      <th></th>\n      <th>Purchase Count</th>\n      <th>Average Purchase Price</th>\n      <th>Total Purchase Value</th>\n    </tr>\n    <tr>\n      <th>SN</th>\n      <th></th>\n      <th></th>\n      <th></th>\n    </tr>\n  </thead>\n  <tbody>\n    <tr>\n      <th>Lisosia93</th>\n      <td>5</td>\n      <td>3.792000</td>\n      <td>18.96</td>\n    </tr>\n    <tr>\n      <th>Idastidru52</th>\n      <td>4</td>\n      <td>3.862500</td>\n      <td>15.45</td>\n    </tr>\n    <tr>\n      <th>Chamjask73</th>\n      <td>3</td>\n      <td>4.610000</td>\n      <td>13.83</td>\n    </tr>\n    <tr>\n      <th>Iral74</th>\n      <td>4</td>\n      <td>3.405000</td>\n      <td>13.62</td>\n    </tr>\n    <tr>\n      <th>Iskadarya95</th>\n      <td>3</td>\n      <td>4.366667</td>\n      <td>13.10</td>\n    </tr>\n    <tr>\n      <th>...</th>\n      <td>...</td>\n      <td>...</td>\n      <td>...</td>\n    </tr>\n    <tr>\n      <th>Ililsasya43</th>\n      <td>1</td>\n      <td>1.020000</td>\n      <td>1.02</td>\n    </tr>\n    <tr>\n      <th>Irilis75</th>\n      <td>1</td>\n      <td>1.020000</td>\n      <td>1.02</td>\n    </tr>\n    <tr>\n      <th>Aidai61</th>\n      <td>1</td>\n      <td>1.010000</td>\n      <td>1.01</td>\n    </tr>\n    <tr>\n      <th>Chanirra79</th>\n      <td>1</td>\n      <td>1.010000</td>\n      <td>1.01</td>\n    </tr>\n    <tr>\n      <th>Alo38</th>\n      <td>1</td>\n      <td>1.000000</td>\n      <td>1.00</td>\n    </tr>\n  </tbody>\n</table>\n<p>576 rows × 3 columns</p>\n</div>"
     },
     "metadata": {},
     "execution_count": 125
    }
   ],
   "source": [
    "TopSpenders = Purchase_df.sort_values([\"Total Purchase Value\"],ascending=False)\n",
    "TopSpenders"
   ]
  },
  {
   "cell_type": "markdown",
   "metadata": {},
   "source": [
    "## Most Popular Items"
   ]
  },
  {
   "cell_type": "markdown",
   "metadata": {},
   "source": [
    "* Retrieve the Item ID, Item Name, and Item Price columns\n",
    "\n",
    "\n",
    "* Group by Item ID and Item Name. Perform calculations to obtain purchase count, item price, and total purchase value\n",
    "\n",
    "\n",
    "* Create a summary data frame to hold the results\n",
    "\n",
    "\n",
    "* Sort the purchase count column in descending order\n",
    "\n",
    "\n",
    "* Optional: give the displayed data cleaner formatting\n",
    "\n",
    "\n",
    "* Display a preview of the summary data frame\n",
    "\n"
   ]
  },
  {
   "cell_type": "code",
   "execution_count": 126,
   "metadata": {},
   "outputs": [],
   "source": [
    "ItemsNameGrouped = df.groupby([\"Item ID\", \"Item Name\"])"
   ]
  },
  {
   "cell_type": "code",
   "execution_count": 128,
   "metadata": {},
   "outputs": [],
   "source": [
    "#Purchase Count\n",
    "Item_Count= ItemsNameGrouped[\"SN\"].count()"
   ]
  },
  {
   "cell_type": "code",
   "execution_count": 129,
   "metadata": {},
   "outputs": [],
   "source": [
    "#Item Price\n",
    "Item_Price= ItemsNameGrouped[\"Price\"].mean()"
   ]
  },
  {
   "cell_type": "code",
   "execution_count": 130,
   "metadata": {},
   "outputs": [],
   "source": [
    "#Total Purchase Value\n",
    "Item_Rev= ItemsNameGrouped[\"Price\"].sum()"
   ]
  },
  {
   "cell_type": "code",
   "execution_count": 133,
   "metadata": {},
   "outputs": [],
   "source": [
    "Items_df =pd.DataFrame({\"Purchase Count\":Item_Count,\"Item Price\":Item_Price,\"Total Purchase Value\":Item_Rev})\n"
   ]
  },
  {
   "cell_type": "code",
   "execution_count": 134,
   "metadata": {},
   "outputs": [
    {
     "output_type": "execute_result",
     "data": {
      "text/plain": [
       "                                                      Purchase Count  \\\n",
       "Item ID Item Name                                                      \n",
       "92      Final Critic                                              13   \n",
       "178     Oathbreaker, Last Hope of the Breaking Storm              12   \n",
       "145     Fiery Glass Crusader                                       9   \n",
       "132     Persuasion                                                 9   \n",
       "108     Extraction, Quickblade Of Trembling Hands                  9   \n",
       "...                                                              ...   \n",
       "42      The Decapitator                                            1   \n",
       "51      Endbringer                                                 1   \n",
       "118     Ghost Reaver, Longsword of Magic                           1   \n",
       "104     Gladiator's Glaive                                         1   \n",
       "91      Celeste                                                    1   \n",
       "\n",
       "                                                      Item Price  \\\n",
       "Item ID Item Name                                                  \n",
       "92      Final Critic                                    4.614615   \n",
       "178     Oathbreaker, Last Hope of the Breaking Storm    4.230000   \n",
       "145     Fiery Glass Crusader                            4.580000   \n",
       "132     Persuasion                                      3.221111   \n",
       "108     Extraction, Quickblade Of Trembling Hands       3.530000   \n",
       "...                                                          ...   \n",
       "42      The Decapitator                                 1.750000   \n",
       "51      Endbringer                                      4.660000   \n",
       "118     Ghost Reaver, Longsword of Magic                2.170000   \n",
       "104     Gladiator's Glaive                              1.930000   \n",
       "91      Celeste                                         4.170000   \n",
       "\n",
       "                                                      Total Purchase Value  \n",
       "Item ID Item Name                                                           \n",
       "92      Final Critic                                                 59.99  \n",
       "178     Oathbreaker, Last Hope of the Breaking Storm                 50.76  \n",
       "145     Fiery Glass Crusader                                         41.22  \n",
       "132     Persuasion                                                   28.99  \n",
       "108     Extraction, Quickblade Of Trembling Hands                    31.77  \n",
       "...                                                                    ...  \n",
       "42      The Decapitator                                               1.75  \n",
       "51      Endbringer                                                    4.66  \n",
       "118     Ghost Reaver, Longsword of Magic                              2.17  \n",
       "104     Gladiator's Glaive                                            1.93  \n",
       "91      Celeste                                                       4.17  \n",
       "\n",
       "[179 rows x 3 columns]"
      ],
      "text/html": "<div>\n<style scoped>\n    .dataframe tbody tr th:only-of-type {\n        vertical-align: middle;\n    }\n\n    .dataframe tbody tr th {\n        vertical-align: top;\n    }\n\n    .dataframe thead th {\n        text-align: right;\n    }\n</style>\n<table border=\"1\" class=\"dataframe\">\n  <thead>\n    <tr style=\"text-align: right;\">\n      <th></th>\n      <th></th>\n      <th>Purchase Count</th>\n      <th>Item Price</th>\n      <th>Total Purchase Value</th>\n    </tr>\n    <tr>\n      <th>Item ID</th>\n      <th>Item Name</th>\n      <th></th>\n      <th></th>\n      <th></th>\n    </tr>\n  </thead>\n  <tbody>\n    <tr>\n      <th>92</th>\n      <th>Final Critic</th>\n      <td>13</td>\n      <td>4.614615</td>\n      <td>59.99</td>\n    </tr>\n    <tr>\n      <th>178</th>\n      <th>Oathbreaker, Last Hope of the Breaking Storm</th>\n      <td>12</td>\n      <td>4.230000</td>\n      <td>50.76</td>\n    </tr>\n    <tr>\n      <th>145</th>\n      <th>Fiery Glass Crusader</th>\n      <td>9</td>\n      <td>4.580000</td>\n      <td>41.22</td>\n    </tr>\n    <tr>\n      <th>132</th>\n      <th>Persuasion</th>\n      <td>9</td>\n      <td>3.221111</td>\n      <td>28.99</td>\n    </tr>\n    <tr>\n      <th>108</th>\n      <th>Extraction, Quickblade Of Trembling Hands</th>\n      <td>9</td>\n      <td>3.530000</td>\n      <td>31.77</td>\n    </tr>\n    <tr>\n      <th>...</th>\n      <th>...</th>\n      <td>...</td>\n      <td>...</td>\n      <td>...</td>\n    </tr>\n    <tr>\n      <th>42</th>\n      <th>The Decapitator</th>\n      <td>1</td>\n      <td>1.750000</td>\n      <td>1.75</td>\n    </tr>\n    <tr>\n      <th>51</th>\n      <th>Endbringer</th>\n      <td>1</td>\n      <td>4.660000</td>\n      <td>4.66</td>\n    </tr>\n    <tr>\n      <th>118</th>\n      <th>Ghost Reaver, Longsword of Magic</th>\n      <td>1</td>\n      <td>2.170000</td>\n      <td>2.17</td>\n    </tr>\n    <tr>\n      <th>104</th>\n      <th>Gladiator's Glaive</th>\n      <td>1</td>\n      <td>1.930000</td>\n      <td>1.93</td>\n    </tr>\n    <tr>\n      <th>91</th>\n      <th>Celeste</th>\n      <td>1</td>\n      <td>4.170000</td>\n      <td>4.17</td>\n    </tr>\n  </tbody>\n</table>\n<p>179 rows × 3 columns</p>\n</div>"
     },
     "metadata": {},
     "execution_count": 134
    }
   ],
   "source": [
    "Items_df = Items_df.sort_values([\"Purchase Count\"],ascending=False)\n",
    "Items_df"
   ]
  },
  {
   "cell_type": "markdown",
   "metadata": {},
   "source": [
    "## Most Profitable Items"
   ]
  },
  {
   "cell_type": "markdown",
   "metadata": {},
   "source": [
    "* Sort the above table by total purchase value in descending order\n",
    "\n",
    "\n",
    "* Optional: give the displayed data cleaner formatting\n",
    "\n",
    "\n",
    "* Display a preview of the data frame\n",
    "\n"
   ]
  },
  {
   "cell_type": "code",
   "execution_count": 135,
   "metadata": {},
   "outputs": [
    {
     "output_type": "execute_result",
     "data": {
      "text/plain": [
       "                                                      Purchase Count  \\\n",
       "Item ID Item Name                                                      \n",
       "92      Final Critic                                              13   \n",
       "178     Oathbreaker, Last Hope of the Breaking Storm              12   \n",
       "82      Nirvana                                                    9   \n",
       "145     Fiery Glass Crusader                                       9   \n",
       "103     Singed Scalpel                                             8   \n",
       "...                                                              ...   \n",
       "28      Flux, Destroyer of Due Diligence                           2   \n",
       "126     Exiled Mithril Longsword                                   1   \n",
       "125     Whistling Mithril Warblade                                 2   \n",
       "104     Gladiator's Glaive                                         1   \n",
       "42      The Decapitator                                            1   \n",
       "\n",
       "                                                      Item Price  \\\n",
       "Item ID Item Name                                                  \n",
       "92      Final Critic                                    4.614615   \n",
       "178     Oathbreaker, Last Hope of the Breaking Storm    4.230000   \n",
       "82      Nirvana                                         4.900000   \n",
       "145     Fiery Glass Crusader                            4.580000   \n",
       "103     Singed Scalpel                                  4.350000   \n",
       "...                                                          ...   \n",
       "28      Flux, Destroyer of Due Diligence                1.060000   \n",
       "126     Exiled Mithril Longsword                        2.000000   \n",
       "125     Whistling Mithril Warblade                      1.000000   \n",
       "104     Gladiator's Glaive                              1.930000   \n",
       "42      The Decapitator                                 1.750000   \n",
       "\n",
       "                                                      Total Purchase Value  \n",
       "Item ID Item Name                                                           \n",
       "92      Final Critic                                                 59.99  \n",
       "178     Oathbreaker, Last Hope of the Breaking Storm                 50.76  \n",
       "82      Nirvana                                                      44.10  \n",
       "145     Fiery Glass Crusader                                         41.22  \n",
       "103     Singed Scalpel                                               34.80  \n",
       "...                                                                    ...  \n",
       "28      Flux, Destroyer of Due Diligence                              2.12  \n",
       "126     Exiled Mithril Longsword                                      2.00  \n",
       "125     Whistling Mithril Warblade                                    2.00  \n",
       "104     Gladiator's Glaive                                            1.93  \n",
       "42      The Decapitator                                               1.75  \n",
       "\n",
       "[179 rows x 3 columns]"
      ],
      "text/html": "<div>\n<style scoped>\n    .dataframe tbody tr th:only-of-type {\n        vertical-align: middle;\n    }\n\n    .dataframe tbody tr th {\n        vertical-align: top;\n    }\n\n    .dataframe thead th {\n        text-align: right;\n    }\n</style>\n<table border=\"1\" class=\"dataframe\">\n  <thead>\n    <tr style=\"text-align: right;\">\n      <th></th>\n      <th></th>\n      <th>Purchase Count</th>\n      <th>Item Price</th>\n      <th>Total Purchase Value</th>\n    </tr>\n    <tr>\n      <th>Item ID</th>\n      <th>Item Name</th>\n      <th></th>\n      <th></th>\n      <th></th>\n    </tr>\n  </thead>\n  <tbody>\n    <tr>\n      <th>92</th>\n      <th>Final Critic</th>\n      <td>13</td>\n      <td>4.614615</td>\n      <td>59.99</td>\n    </tr>\n    <tr>\n      <th>178</th>\n      <th>Oathbreaker, Last Hope of the Breaking Storm</th>\n      <td>12</td>\n      <td>4.230000</td>\n      <td>50.76</td>\n    </tr>\n    <tr>\n      <th>82</th>\n      <th>Nirvana</th>\n      <td>9</td>\n      <td>4.900000</td>\n      <td>44.10</td>\n    </tr>\n    <tr>\n      <th>145</th>\n      <th>Fiery Glass Crusader</th>\n      <td>9</td>\n      <td>4.580000</td>\n      <td>41.22</td>\n    </tr>\n    <tr>\n      <th>103</th>\n      <th>Singed Scalpel</th>\n      <td>8</td>\n      <td>4.350000</td>\n      <td>34.80</td>\n    </tr>\n    <tr>\n      <th>...</th>\n      <th>...</th>\n      <td>...</td>\n      <td>...</td>\n      <td>...</td>\n    </tr>\n    <tr>\n      <th>28</th>\n      <th>Flux, Destroyer of Due Diligence</th>\n      <td>2</td>\n      <td>1.060000</td>\n      <td>2.12</td>\n    </tr>\n    <tr>\n      <th>126</th>\n      <th>Exiled Mithril Longsword</th>\n      <td>1</td>\n      <td>2.000000</td>\n      <td>2.00</td>\n    </tr>\n    <tr>\n      <th>125</th>\n      <th>Whistling Mithril Warblade</th>\n      <td>2</td>\n      <td>1.000000</td>\n      <td>2.00</td>\n    </tr>\n    <tr>\n      <th>104</th>\n      <th>Gladiator's Glaive</th>\n      <td>1</td>\n      <td>1.930000</td>\n      <td>1.93</td>\n    </tr>\n    <tr>\n      <th>42</th>\n      <th>The Decapitator</th>\n      <td>1</td>\n      <td>1.750000</td>\n      <td>1.75</td>\n    </tr>\n  </tbody>\n</table>\n<p>179 rows × 3 columns</p>\n</div>"
     },
     "metadata": {},
     "execution_count": 135
    }
   ],
   "source": [
    "Items_Most_Rev_df = Items_df.sort_values([\"Total Purchase Value\"],ascending=False)\n",
    "Items_Most_Rev_df"
   ]
  },
  {
   "cell_type": "code",
   "execution_count": null,
   "metadata": {},
   "outputs": [],
   "source": []
  }
 ],
 "metadata": {
  "anaconda-cloud": {},
  "kernel_info": {
   "name": "python3"
  },
  "kernelspec": {
   "display_name": "Python 3",
   "language": "python",
   "name": "python3"
  },
  "language_info": {
   "codemirror_mode": {
    "name": "ipython",
    "version": 3
   },
   "file_extension": ".py",
   "mimetype": "text/x-python",
   "name": "python",
   "nbconvert_exporter": "python",
   "pygments_lexer": "ipython3",
   "version": "3.8.5-final"
  },
  "latex_envs": {
   "LaTeX_envs_menu_present": true,
   "autoclose": false,
   "autocomplete": true,
   "bibliofile": "biblio.bib",
   "cite_by": "apalike",
   "current_citInitial": 1,
   "eqLabelWithNumbers": true,
   "eqNumInitial": 1,
   "hotkeys": {
    "equation": "Ctrl-E",
    "itemize": "Ctrl-I"
   },
   "labels_anchors": false,
   "latex_user_defs": false,
   "report_style_numbering": false,
   "user_envs_cfg": false
  },
  "nteract": {
   "version": "0.2.0"
  }
 },
 "nbformat": 4,
 "nbformat_minor": 2
}